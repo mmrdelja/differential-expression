{
  "nbformat": 4,
  "nbformat_minor": 0,
  "metadata": {
    "colab": {
      "provenance": []
    },
    "kernelspec": {
      "name": "ir",
      "display_name": "R"
    },
    "language_info": {
      "name": "R"
    }
  },
  "cells": [
    {
      "cell_type": "code",
      "execution_count": null,
      "metadata": {
        "id": "jRKfBACcZWBK"
      },
      "outputs": [],
      "source": [
        "library(GEOquery); library(limma); library(samr); library(enrichR); library(tidyverse); library(fpc); library(cluster); library(EnhancedVolcano)\n",
        "#Loading in glioblastoma microarray expression set\n",
        "gset <- getGEO(\"GSE90598\", GSEMatrix =TRUE, getGPL=FALSE)\n",
        "if (length(gset) > 1) idx <- grep(\"GPL17692\", attr(gset, \"names\")) else idx <- 1\n",
        "gset <- gset[[idx]]\n",
        "\n",
        "#Set expression set to a variable\n",
        "ex <- exprs(gset)\n",
        "# log2 transform\n",
        "qx <- as.numeric(quantile(ex, c(0., 0.25, 0.5, 0.75, 0.99, 1.0), na.rm=T))\n",
        "LogC <- (qx[5] > 100) ||\n",
        "          (qx[6]-qx[1] > 50 && qx[2] > 0)\n",
        "if (LogC) { ex[which(ex <= 0)] <- NaN\n",
        "  ex <- log2(ex) }"
      ]
    },
    {
      "cell_type": "code",
      "source": [
        "#Set column names to a more readable format\n",
        "colnames(ex) <- pData(gset)[,1]\n",
        "sampleinfo <- colnames(ex)\n",
        "#Set as factor\n",
        "sampleinfo$status = factor(ifelse(startsWith(sampleinfo,\"Glioblastoma\"),\"glio\",\"control\"))\n",
        "sampleinfo = as.data.frame(sampleinfo)\n",
        "col.data <- sampleinfo\n",
        "\n",
        "#Classes to colors for plotting\n",
        "classes = sampleinfo$status\n",
        "cols=rainbow(length(unique(classes)))\n",
        "point.cols=cols[as.numeric(as.factor(classes))]\n",
        "\n",
        "#Calculate sample variance for each gene\n",
        "var.expr <- apply(ex,1,var)\n",
        "#300 genes with highest sample variance\n",
        "select=order(var.expr,decreasing=T)[1:300]\n",
        "highvar.expr <- ex[select,]\n",
        "\n",
        "#correlation distance\n",
        "corr.dist=function(x) { as.dist(1-cor(t(x))) }"
      ],
      "metadata": {
        "id": "8Plu-0n_Zyao"
      },
      "execution_count": null,
      "outputs": []
    },
    {
      "cell_type": "code",
      "source": [
        "#How samples cluster based on correlation distance, ward method\n",
        "hc.ward.p <- hclust(corr.dist(t(highvar.expr)),method=\"ward.D2\")\n",
        "plot(hc.ward.p)"
      ],
      "metadata": {
        "id": "OsID5c4MZyjB"
      },
      "execution_count": null,
      "outputs": []
    },
    {
      "cell_type": "code",
      "source": [
        "#Principal component analysis\n",
        "pc.expr <- prcomp(highvar.expr)\n",
        "plot(pc.expr)"
      ],
      "metadata": {
        "id": "s7fmL12cZyoL"
      },
      "execution_count": null,
      "outputs": []
    },
    {
      "cell_type": "code",
      "source": [
        "#PCA, components 1 and 2, colored by case and control\n",
        "plot(pc.expr$x[,1:2],col=point.cols)\n",
        "legend(\"topright\",inset = c(0,0),legend = unique(classes), fill = cols, cex = 0.7, xpd = TRUE)"
      ],
      "metadata": {
        "id": "RtNVcJ7fZytH"
      },
      "execution_count": null,
      "outputs": []
    },
    {
      "cell_type": "code",
      "source": [
        "#Silhouette analysis for optimal number of clusters\n",
        "num.clust <- c(2:10)\n",
        "sil.widths <- vector()\n",
        "mean.sil.width <- numeric()\n",
        "for (i in num.clust) {\n",
        "kmeans.result <- kmeans(highvar.expr,i)\n",
        "sil.widths <- silhouette(kmeans.result$cluster, dist(highvar.expr))\n",
        "mean.sil.width[i] <- mean(sil.widths[,3])\n",
        "}\n",
        "plot(num.clust,na.omit(mean.sil.width),xlab=\"Number of clusters\",ylab=\"Average Silhouette Width\")"
      ],
      "metadata": {
        "id": "UESvOKPoZyx_"
      },
      "execution_count": null,
      "outputs": []
    },
    {
      "cell_type": "code",
      "source": [
        "#Setting condition - if it is a glioblastoma sample =glio, if not=control\n",
        "conditions <- as.factor(sampleinfo$status)\n",
        "\n",
        "#Limma analysis of differential expression\n",
        "design <- model.matrix(~ conditions + 0, gset)\n",
        "#Consistent naming\n",
        "colnames(design) <- levels(conditions)\n",
        "rownames(design) <- colnames(ex)\n",
        "#Set fit\n",
        "fit <- lmFit(gset, design)\n",
        "#Contrast matrix\n",
        "cont.matrix <- makeContrasts(glio - control, levels=design)\n",
        "fit2 <- contrasts.fit(fit, cont.matrix)\n",
        "#Stats\n",
        "fit2 <- eBayes(fit2, 0.01)\n",
        "#Top table, adjusted with fdr. Arbitrarily high number\n",
        "result.tt <- topTable(fit2, adjust=\"fdr\", sort.by=\"B\", number=25000000)\n",
        "\n",
        "#Up-regulated genes\n",
        "select.de.up = ! is.na(result.tt$P.Value) & result.tt$P.Value <= 0.05 & result.tt$logFC >=1\n",
        "genes.de.up <- result.tt[select.de.up,]\n",
        "print(paste(\"The number of upregulated genes is\", dim(genes.de.up)[1]))\n",
        "#1447 genes"
      ],
      "metadata": {
        "id": "sBSisqDkZy2z"
      },
      "execution_count": null,
      "outputs": []
    },
    {
      "cell_type": "code",
      "source": [
        "#Down-regulated genes\n",
        "select.de.down = ! is.na(result.tt$P.Value) & result.tt$P.Value <= 0.05 & result.tt$logFC <=(-1)\n",
        "genes.de.down <- result.tt[select.de.down,]\n",
        "print(paste(\"The number of downregulated genes is\", dim(genes.de.down)[1]))\n",
        "#947 genes"
      ],
      "metadata": {
        "id": "7W7yQUSuZy77"
      },
      "execution_count": null,
      "outputs": []
    },
    {
      "cell_type": "code",
      "source": [
        "#SAM statistics, for comparison to limma/bayesian above\n",
        "samfit <- SAM(x=ex,y=conditions,resp.type=\"Two class unpaired\",geneid = rownames(ex))"
      ],
      "metadata": {
        "id": "coYuy4dFZzBP"
      },
      "execution_count": null,
      "outputs": []
    },
    {
      "cell_type": "code",
      "source": [
        "#Top 6 up-regulated\n",
        "head(samfit[[\"siggenes.table\"]][[\"genes.up\"]])"
      ],
      "metadata": {
        "id": "GzDjQC8xZzGD"
      },
      "execution_count": null,
      "outputs": []
    },
    {
      "cell_type": "code",
      "source": [
        "#Top 6 down-regulated\n",
        "head(samfit[[\"siggenes.table\"]][[\"genes.lo\"]])"
      ],
      "metadata": {
        "id": "GwlUtrAlalty"
      },
      "execution_count": null,
      "outputs": []
    },
    {
      "cell_type": "code",
      "source": [
        "## Annotate microarray probes\n",
        "#Download file from publication\n",
        "temp.labeldat <- read.delim(\"~/Downloads/GPL17692.an.txt\")\n",
        "temp.labeldat <- temp.labeldat[,1:2]\n",
        "#Add new column of probe name IDs\n",
        "result.tt$ProbeName <- as.numeric(row.names(result.tt))\n",
        "#Join label data and limma top table results\n",
        "temp.combin <- merge(temp.labeldat,result.tt,by=\"ProbeName\")\n",
        "#Remove rows with empty spaces\n",
        "temp.combin.df <- temp.combin[!temp.combin$GeneSymbols==\"\", ]\n",
        "#Some rows have multiple values in GeneSymbols, so expand the column and duplicate values\n",
        "fin.combin.df <- temp.combin.df %>% separate_rows(GeneSymbols)\n",
        "\n",
        "#Our top 300 genes of interest, ProbeName\n",
        "sel.gene <- rownames(highvar.expr)\n",
        "#Isolate 300 highest variance genes of interest\n",
        "gene.enrich.dat <- fin.combin.df[which(fin.combin.df$ProbeName %in% sel.gene),]\n",
        "#I can only get 267 genes due to data missingness\n",
        "\n",
        "#Using the new, gene selected DE results, isolate upregulated and downregulated\n",
        "#Upregulated\n",
        "sel.de.up = ! is.na(gene.enrich.dat$P.Value) & gene.enrich.dat$P.Value <= 0.05 & gene.enrich.dat$logFC >=1\n",
        "sel.genes.de.up <- gene.enrich.dat[sel.de.up,]\n",
        "print(paste(\"The number of upregulated genes is\", dim(sel.genes.de.up)[1]))\n",
        "#59 genes\n",
        "#Downregulated\n",
        "sel.de.down = ! is.na(gene.enrich.dat$P.Value) & gene.enrich.dat$P.Value <= 0.05 & gene.enrich.dat$logFC <=(-1)\n",
        "sel.genes.de.down <- gene.enrich.dat[sel.de.down,]\n",
        "print(paste(\"The number of downregulated genes is\", dim(sel.genes.de.down)[1]))\n",
        "#132 genes"
      ],
      "metadata": {
        "id": "UY9f7yUTalyv"
      },
      "execution_count": null,
      "outputs": []
    },
    {
      "cell_type": "code",
      "source": [
        "#Set databases of interest for enrichment analysis via enrichR\n",
        "dbs <- c(\"GO_Molecular_Function_2018\", \"GO_Cellular_Component_2018\", \"GO_Biological_Process_2018\",\"KEGG_2016\",\"Reactome_2016\")\n",
        "#For all differentially expressed genes\n",
        "gene.enrich.list <- enrichr(gene.enrich.dat$GeneSymbols,dbs)"
      ],
      "metadata": {
        "id": "sFk9kp2ial3B"
      },
      "execution_count": null,
      "outputs": []
    },
    {
      "cell_type": "code",
      "source": [
        "#Plotting enrichment analysis for molecular functions\n",
        "plotEnrich(gene.enrich.list[[1]], showTerms = 20, numChar = 40, y = \"Count\", orderBy = \"P.value\")"
      ],
      "metadata": {
        "id": "2kJXlzWPbzuD"
      },
      "execution_count": null,
      "outputs": []
    },
    {
      "cell_type": "code",
      "source": [
        "#Plotting enrichment analysis for biological processes\n",
        "plotEnrich(gene.enrich.list[[3]], showTerms = 20, numChar = 40, y = \"Count\", orderBy = \"P.value\")"
      ],
      "metadata": {
        "id": "xaQ73davcFOt"
      },
      "execution_count": null,
      "outputs": []
    },
    {
      "cell_type": "code",
      "source": [
        "#Plotting KEGG enrichment analysis\n",
        "plotEnrich(gene.enrich.list[[4]], showTerms = 20, numChar = 40, y = \"Count\", orderBy = \"P.value\")"
      ],
      "metadata": {
        "id": "7X3yYzudcFTm"
      },
      "execution_count": null,
      "outputs": []
    },
    {
      "cell_type": "code",
      "source": [
        "#Simple Volcano Plot\n",
        "EnhancedVolcano(gene.enrich.dat,\n",
        "                 lab = gene.enrich.dat$GeneSymbols,\n",
        "                 x = 'logFC',\n",
        "                pCutoff = 10e-5,\n",
        "                FCcutoff = 1.5,\n",
        "                 y = 'P.Value')"
      ],
      "metadata": {
        "id": "PyW4mlx0cFYK"
      },
      "execution_count": null,
      "outputs": []
    },
    {
      "cell_type": "code",
      "source": [
        "#Repeat above, For upregulated differentially expressed genes\n",
        "up.gene.enrich.list <- enrichr(sel.genes.de.up$GeneSymbols,dbs)"
      ],
      "metadata": {
        "id": "y3ImpbtGcK86"
      },
      "execution_count": null,
      "outputs": []
    },
    {
      "cell_type": "code",
      "source": [
        "#Plotting KEGG enrichment analysis\n",
        "plotEnrich(up.gene.enrich.list[[4]], showTerms = 20, numChar = 40, y = \"Count\", orderBy = \"P.value"
      ],
      "metadata": {
        "id": "WahMgjczcLBx"
      },
      "execution_count": null,
      "outputs": []
    },
    {
      "cell_type": "code",
      "source": [
        "#Repeat above, For downregulated differentially expressed genes\n",
        "down.gene.enrich.list <- enrichr(sel.genes.de.down$GeneSymbols,dbs)"
      ],
      "metadata": {
        "id": "LDP8oZX7cLGB"
      },
      "execution_count": null,
      "outputs": []
    },
    {
      "cell_type": "code",
      "source": [
        "#Plotting KEGG enrichment analysis\n",
        "plotEnrich(down.gene.enrich.list[[4]], showTerms = 20, numChar = 40, y = \"Count\", orderBy = \"P.value\")"
      ],
      "metadata": {
        "id": "ymCgfKFnceDf"
      },
      "execution_count": null,
      "outputs": []
    },
    {
      "cell_type": "code",
      "source": [
        "#Setting up network analysis, interactome analysis cluster\n",
        "IAC=cor(t(highvar.expr),use=\"p\")\n",
        "hist(IAC,sub=paste(\"Mean=\",format(mean(IAC[upper.tri(IAC)]),digits=3)))"
      ],
      "metadata": {
        "id": "s-PPwzlZcelS"
      },
      "execution_count": null,
      "outputs": []
    },
    {
      "cell_type": "code",
      "source": [
        "#Prep data for WGCNA\n",
        "cluster1=hclust(as.dist(1-IAC))\n",
        "keepGenesExpr = rank(-rowMeans(ex))<=1000\n",
        "filt.expr<-ex[keepGenesExpr,]\n",
        "dataExpr <- filt.expr[c(1:1000),]\n",
        "dataExpr <- t(dataExpr)"
      ],
      "metadata": {
        "id": "TC_3t65lcepv"
      },
      "execution_count": null,
      "outputs": []
    },
    {
      "cell_type": "code",
      "source": [
        "library(WGCNA)\n",
        "net = blockwiseModules(dataExpr, power = 7,\n",
        "                       TOMType = \"signed\", minModuleSize = 30,\n",
        "                       reassignThreshold =10, mergeCutHeight = 0.5,\n",
        "                       numericLabels = TRUE, pamRespectsDendro = FALSE,\n",
        "                       saveTOMs = TRUE,\n",
        "                       saveTOMFileBase=\"TOM\", verbose=3, ds=3)"
      ],
      "metadata": {
        "id": "NIQjg5uKcety"
      },
      "execution_count": null,
      "outputs": []
    },
    {
      "cell_type": "code",
      "source": [
        "#Generate cluster dendrogram\n",
        "mergedColors = labels2colors(net$colors)\n",
        "plotDendroAndColors(net$dendrograms[[1]], mergedColors[net$blockGenes[[1]]],\n",
        "\"Module colors\",\n",
        "dendroLabels = FALSE, hang = 0.03,\n",
        "addGuide = TRUE, guideHang = 0.05)"
      ],
      "metadata": {
        "id": "9IbvBrVOdANp"
      },
      "execution_count": null,
      "outputs": []
    },
    {
      "cell_type": "code",
      "source": [
        "#Prep for import to Cytoscape\n",
        "genes=colnames(dataExpr)\n",
        "moduleColors=labels2colors(net$colors)\n",
        "mymodules=cbind(genes,moduleColors)\n",
        "\n",
        "load(\"TOM-block.1.RData\")\n",
        "testing <- as.matrix(TOM)\n",
        "dimnames(testing) <- list(genes,genes)\n",
        "\n",
        "suppressMessages(exportNetworkToCytoscape(testing, edgeFile=\"edgedata.txt\", nodeFile=\"nodedata.txt\", weighted=TRUE, threshold = 0.1, nodeNames = genes, nodeAttr = moduleColors))"
      ],
      "metadata": {
        "id": "QYEc3JNMdASS"
      },
      "execution_count": null,
      "outputs": []
    },
    {
      "cell_type": "code",
      "source": [
        "#STRING\n",
        "library(STRINGdb)\n",
        "#Stringdb expects a dataframe\n",
        "fix.str.dat <- as.data.frame(gene.enrich.dat)\n",
        "#Setup. Threshold of 0 to capture all interactions\n",
        "string_db = STRINGdb$new(version=\"11.5\",species=9606, score_threshold=0,input_directory=\"\")\n",
        "DE.mapped = string_db$map(fix.str.dat,\"GeneSymbols\",removeUnmappedRows = TRUE)"
      ],
      "metadata": {
        "id": "5e6vqzz5dAXO"
      },
      "execution_count": null,
      "outputs": []
    },
    {
      "cell_type": "code",
      "source": [
        "#14% of genes couldn't get mapped\n",
        "#100 genes with the most significant DE (out of genes we could map):\n",
        "top.genes = DE.mapped$STRING_id[order(DE.mapped$P.Value)[1:100]]\n",
        "#generate the PPI network with all the interactions among the specified genes:\n",
        "string_db$plot_network(top.genes)"
      ],
      "metadata": {
        "id": "Hjz-Sa1wdAbe"
      },
      "execution_count": null,
      "outputs": []
    },
    {
      "cell_type": "code",
      "source": [
        "# filter by p-value and add a color column\n",
        "# green down-regulated genes and red for up-regulated genes\n",
        "topgenes_pval05 <- string_db$add_diff_exp_color( subset(DE.mapped, P.Value<0.05),logFcColStr=\"logFC\" )\n",
        "# post payload information to the STRING server\n",
        "payload_id <- string_db$post_payload( topgenes_pval05$STRING_id,colors=topgenes_pval05$color )\n",
        "# display a STRING network png with the \"halo\"\n",
        "string_db$plot_network( top.genes, payload_id=payload_id )"
      ],
      "metadata": {
        "id": "QljCK6DRdf_y"
      },
      "execution_count": null,
      "outputs": []
    },
    {
      "cell_type": "code",
      "source": [
        "#Generate enrichment data\n",
        "enrichdat <- string_db$get_enrichment(top.genes)\n",
        "head(enrichdat)"
      ],
      "metadata": {
        "id": "AgTNGjbMdgEL"
      },
      "execution_count": null,
      "outputs": []
    }
  ]
}